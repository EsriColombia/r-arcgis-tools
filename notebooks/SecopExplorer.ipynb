{
 "cells": [
  {
   "cell_type": "markdown",
   "metadata": {
    "slideshow": {
     "slide_type": "slide"
    }
   },
   "source": [
    "# Ejemplo de R-Arcgis-Bridge con Datos Vector"
   ]
  },
  {
   "cell_type": "markdown",
   "metadata": {
    "slideshow": {
     "slide_type": "subslide"
    }
   },
   "source": [
    "Ejemplo del uso de r-arcgis-bridge con datos VECTOR. Se realiza la exploración del dataset SECOP I y un Feature Layer del Departamento Nacional de Planeación\n",
    "\n",
    "![Use Kernel R](https://www.r-project.org/Rlogo.png) Use Kernel R"
   ]
  },
  {
   "cell_type": "code",
   "execution_count": null,
   "metadata": {
    "scrolled": true,
    "slideshow": {
     "slide_type": "slide"
    }
   },
   "outputs": [],
   "source": [
    "require(\"RSocrata\")\n",
    "require(\"arcgisbinding\")\n",
    "require(\"stringi\")\n",
    "require(\"doBy\")\n",
    "require(\"sp\")\n",
    "require(\"sqldf\")\n",
    "require(\"spatialEco\")\n",
    "require(\"rmarkdown\")\n",
    "require(\"knitr\")\n",
    "require(\"dplyr\")\n",
    "require(\"reshape2\")\n",
    "require(\"reshape\")\n",
    "require(\"ggplot2\")\n",
    "require(\"leaflet\")\n",
    "require(\"leaflet.esri\")\n",
    "print (\"Verificando Licencia de arcgis pro\")\n",
    "arc.check_product()"
   ]
  },
  {
   "cell_type": "markdown",
   "metadata": {
    "slideshow": {
     "slide_type": "slide"
    }
   },
   "source": [
    "## Datos de entrada y Salida"
   ]
  },
  {
   "cell_type": "code",
   "execution_count": null,
   "metadata": {
    "scrolled": false,
    "slideshow": {
     "slide_type": "subslide"
    }
   },
   "outputs": [],
   "source": [
    "querybase <- '80849753'\n",
    "salida_shape <-\"C:\\\\Esri\\\\env\\\\resultados.gdb\\\\Baez\"\n",
    "salida_reporte <- \"C:\\\\Esri\\\\env\\\\reporte_baez.html\""
   ]
  },
  {
   "cell_type": "markdown",
   "metadata": {
    "slideshow": {
     "slide_type": "slide"
    }
   },
   "source": [
    "## Constantes Usadas en el Proceso"
   ]
  },
  {
   "cell_type": "code",
   "execution_count": null,
   "metadata": {
    "scrolled": true,
    "slideshow": {
     "slide_type": "subslide"
    }
   },
   "outputs": [],
   "source": [
    "outputformathtml = \"html_document\"\n",
    "#outputformatpdf = \"pdf_document\"\n",
    "output_report_format = outputformathtml\n",
    "#pathDepartamentos <-\"C:\\\\esri\\\\r-arcgis-tools\\\\datasets\\\\colombia.gdb\\\\deptos\"\n",
    "pathDepartamentos <- \"https://services1.arcgis.com/I4YYbPSw13ugmbAP/ArcGIS/rest/services/GDB_ECV_2da_parte_gdb/FeatureServer/0\" # \"C:\\\\esri\\\\r-arcgis-tools\\\\datasets\\\\colombia.gdb\\\\deptos\"\n",
    "pathReporte <- \"c:\\\\esri\\\\r-arcgis-tools\\\\src\\\\ReportSecop.Rmd\"\n",
    "portal_socrata = \"https://www.datos.gov.co\"\n",
    "resource =\"/resource/c6dm-udt9.json?\"\n",
    "columnas_interes <- list(c(\"identificacion_del_contratista\",\n",
    "                             \"nom_raz_social_contratista\",\n",
    "                             \"plazo_de_ejec_del_contrato\",\n",
    "                             \"tiempo_adiciones_en_meses\",\n",
    "                             \"anno_firma_del_contrato\",\n",
    "                             \"dpto_y_muni_contratista\",\n",
    "                             \"nombre_de_la_entidad\",\n",
    "                             \"valor_contrato_con_adiciones\",\n",
    "                             \"numero_de_proceso\",\n",
    "                             \"numero_del_contrato\",\n",
    "                             \"ruta_proceso_en_secop_i\"))\n",
    "orderbycolumns <- list(c(\"anno_firma_del_contrato\",\"valor_contrato_con_adiciones\"))\n"
   ]
  },
  {
   "cell_type": "code",
   "execution_count": null,
   "metadata": {
    "slideshow": {
     "slide_type": "slide"
    }
   },
   "outputs": [],
   "source": [
    "columnas <- stri_join_list(columnas_interes,sep=\",\")\n",
    "orderby <- stri_join_list(orderbycolumns,sep=\",\")\n",
    "columnas_rename <- list(c(\"ID\",\n",
    "                            \"CONTRATISTA\",\n",
    "                            \"PLAZO\",\n",
    "                            \"ADICIONES\",\n",
    "                            \"ANO\",\n",
    "                            \"DEPARTAMENTO\",\n",
    "                            \"ENTIDAD\",\n",
    "                            \"VALOR\",\n",
    "                            \"PROCESO\",\n",
    "                            \"CONTRATO\",\n",
    "                            \"URL\"))"
   ]
  },
  {
   "cell_type": "markdown",
   "metadata": {
    "slideshow": {
     "slide_type": "slide"
    }
   },
   "source": [
    "# Proceso de consulta de capa remota de ArcGIS Server"
   ]
  },
  {
   "cell_type": "code",
   "execution_count": null,
   "metadata": {
    "scrolled": true,
    "slideshow": {
     "slide_type": "subslide"
    }
   },
   "outputs": [],
   "source": [
    "arcMuni <- arc.open(path=pathDepartamentos)\n",
    "d_sub <- arc.select(arcMuni, fields = \"*\", where_clause = \"1=1\", sr = 4326)\n",
    "element<- arc.data2sp(d_sub)"
   ]
  },
  {
   "cell_type": "code",
   "execution_count": null,
   "metadata": {
    "scrolled": true,
    "slideshow": {
     "slide_type": "slide"
    }
   },
   "outputs": [],
   "source": [
    "mapaentrada <- leaflet(element) %>%\n",
    "                addProviderTiles(providers$Esri)  %>%\n",
    "                addPolygons()\n"
   ]
  },
  {
   "cell_type": "code",
   "execution_count": null,
   "metadata": {
    "scrolled": true,
    "slideshow": {
     "slide_type": "slide"
    }
   },
   "outputs": [],
   "source": [
    "mapaentrada\n",
    "element@data"
   ]
  },
  {
   "cell_type": "code",
   "execution_count": null,
   "metadata": {
    "scrolled": true,
    "slideshow": {
     "slide_type": "slide"
    }
   },
   "outputs": [],
   "source": [
    "element@data$NOMBRE <- toupper(element@data$DPTO_CNMBR)\n",
    "element@data$NOMBRE <-gsub(\"Á\",\"A\",element@data$NOMBRE)\n",
    "element@data$NOMBRE <-gsub(\"É\",\"E\",element@data$NOMBRE)\n",
    "element@data$NOMBRE <-gsub(\"Í\",\"I\",element@data$NOMBRE)\n",
    "element@data$NOMBRE <-gsub(\"Ó\",\"O\",element@data$NOMBRE)\n",
    "element@data$NOMBRE <-gsub(\"Ú\",\"U\",element@data$NOMBRE)\n",
    "element@data$NOMBRE <-gsub(\"\\\\.\",\"\",element@data$NOMBRE)\n",
    "element@data$NOMBRE <-gsub(\",\",\"\",element@data$NOMBRE)\n",
    "element@data"
   ]
  },
  {
   "cell_type": "markdown",
   "metadata": {
    "slideshow": {
     "slide_type": "slide"
    }
   },
   "source": [
    "### Consulta al portal de Secop\n",
    "\n",
    "Para hacer consultas por el API de SODA ver [referencia](https://dev.socrata.com/docs/queries/)"
   ]
  },
  {
   "cell_type": "code",
   "execution_count": null,
   "metadata": {
    "scrolled": true,
    "slideshow": {
     "slide_type": "slide"
    }
   },
   "outputs": [],
   "source": [
    "query<- paste(\"$select=\",columnas,sep=\"\")\n",
    "query <- paste(query,\"&$q=\",querybase,sep=\"\")\n",
    "query<- paste(query,\"&$order=\",orderby,sep=\"\")"
   ]
  },
  {
   "cell_type": "code",
   "execution_count": null,
   "metadata": {
    "scrolled": true,
    "slideshow": {
     "slide_type": "slide"
    }
   },
   "outputs": [],
   "source": [
    "secop_portal_url <- paste(portal_socrata,resource,sep=\"\")\n",
    "request <- paste(secop_portal_url,query,sep=\"\")\n",
    "df <- read.socrata(request)\n",
    "df"
   ]
  },
  {
   "cell_type": "markdown",
   "metadata": {
    "slideshow": {
     "slide_type": "slide"
    }
   },
   "source": [
    "### Calculo de Agregaciones, por año y graficas exploratorias"
   ]
  },
  {
   "cell_type": "code",
   "execution_count": null,
   "metadata": {
    "scrolled": true,
    "slideshow": {
     "slide_type": "slide"
    }
   },
   "outputs": [],
   "source": [
    "df_cp <- setNames(df, columnas_rename[[1]]) %>% mutate(VALOR = as.numeric(VALOR)/1000000)\n",
    "summary_year <- group_by(df_cp, ANO,DEPARTAMENTO) %>% \n",
    "                    summarize(TOTAL_CONT = sum(VALOR, na.rm=TRUE),\n",
    "                    PROM = mean(VALOR, na.rm = TRUE),\n",
    "                    MAX = max(VALOR, na.rm = TRUE),\n",
    "                    MIN = min(VALOR, na.rm = TRUE))\n",
    "  \n",
    "summary_tot <- select (summary_year,ANO:TOTAL_CONT)\n",
    "ano_ciudad <- cast(summary_tot , ANO~DEPARTAMENTO,value=\"TOTAL_CONT\")\n",
    "ano_ciudad[is.na(ano_ciudad)] <- 0\n",
    "grafica_mun <- ggplot(summary_tot, aes(x=DEPARTAMENTO, y=TOTAL_CONT )) + geom_col(aes(fill = ANO), width = 0.7) + coord_flip() \n",
    "grafica_mun\n",
    "summary_year"
   ]
  },
  {
   "cell_type": "code",
   "execution_count": null,
   "metadata": {
    "scrolled": true,
    "slideshow": {
     "slide_type": "slide"
    }
   },
   "outputs": [],
   "source": [
    "lista_graficas = c()\n",
    "for (i in 2:ncol(ano_ciudad))\n",
    "{\n",
    "    subset <- ano_ciudad[,c(1,i)]\n",
    "    depto <- colnames(subset)[2]\n",
    "    label1 <- paste(\"Contratado en el depto de \",depto,sep=\"\")\n",
    "    colnames(subset)<-c('ano','valor')\n",
    "    grafica_depto <- ggplot(subset, aes(x=ano, y = valor,  group=1)) + geom_point()  + geom_line()  + labs(title=label1)+ theme_minimal()\n",
    "    lista_graficas <- c(lista_graficas,list(grafica_depto))\n",
    "}"
   ]
  },
  {
   "cell_type": "code",
   "execution_count": null,
   "metadata": {
    "scrolled": true,
    "slideshow": {
     "slide_type": "slide"
    }
   },
   "outputs": [],
   "source": [
    "lista_graficas[1]"
   ]
  },
  {
   "cell_type": "markdown",
   "metadata": {
    "slideshow": {
     "slide_type": "slide"
    }
   },
   "source": [
    "## Acomodando tablas de datos para unir tablas por columna DEPARTAMENTO"
   ]
  },
  {
   "cell_type": "code",
   "execution_count": null,
   "metadata": {
    "scrolled": true,
    "slideshow": {
     "slide_type": "slide"
    }
   },
   "outputs": [],
   "source": [
    "departamento_ano <- cast(summary_tot , DEPARTAMENTO~ANO,value=\"TOTAL_CONT\")\n",
    "departamento_ano[is.na(departamento_ano)] <- 0\n",
    "departamento_ano$DEPARTAMENTO <- toupper(departamento_ano$DEPARTAMENTO)\n",
    "departamento_ano$DEPARTAMENTO <-gsub(\"Á\",\"A\",departamento_ano$DEPARTAMENTO)\n",
    "departamento_ano$DEPARTAMENTO <-gsub(\"É\",\"E\",departamento_ano$DEPARTAMENTO)\n",
    "departamento_ano$DEPARTAMENTO <-gsub(\"Í\",\"I\",departamento_ano$DEPARTAMENTO)\n",
    "departamento_ano$DEPARTAMENTO <-gsub(\"Ó\",\"O\",departamento_ano$DEPARTAMENTO)\n",
    "departamento_ano$DEPARTAMENTO <-gsub(\"Ú\",\"U\",departamento_ano$DEPARTAMENTO)\n",
    "departamento_ano$DEPARTAMENTO <-gsub(\",\",\"\",departamento_ano$DEPARTAMENTO)\n",
    "departamento_ano$DEPARTAMENTO <-gsub(\"\\\\.\",\"\",departamento_ano$DEPARTAMENTO)"
   ]
  },
  {
   "cell_type": "code",
   "execution_count": null,
   "metadata": {
    "scrolled": true,
    "slideshow": {
     "slide_type": "slide"
    }
   },
   "outputs": [],
   "source": [
    "departamento_ano<-departamento_ano %>% mutate (PROMEDIO=Reduce(\"+\",.[2:ncol(departamento_ano)])/(ncol(departamento_ano)-1))\n",
    "departamento_ano<-departamento_ano %>% mutate (TOTAL=Reduce(\"+\",.[2:ncol(departamento_ano)]))\n",
    "departamento_ano\n",
    "\n",
    "  "
   ]
  },
  {
   "cell_type": "code",
   "execution_count": null,
   "metadata": {
    "scrolled": true,
    "slideshow": {
     "slide_type": "slide"
    }
   },
   "outputs": [],
   "source": [
    "  promedio_por_departamento <- departamento_ano %>% select(DEPARTAMENTO,PROMEDIO)"
   ]
  },
  {
   "cell_type": "markdown",
   "metadata": {
    "slideshow": {
     "slide_type": "slide"
    }
   },
   "source": [
    "## Join de datos espaciales con datos alfanumericos para producir cartografia de salida"
   ]
  },
  {
   "cell_type": "code",
   "execution_count": null,
   "metadata": {
    "scrolled": true,
    "slideshow": {
     "slide_type": "slide"
    }
   },
   "outputs": [],
   "source": [
    "mp<- element@data\n",
    "OutDF<- sqldf(\"select a.*, b.* from mp as a left join departamento_ano as b on a.NOMBRE = b.DEPARTAMENTO\",drv=\"SQLite\" )\n",
    "OutDF[is.na(OutDF)] <- 0\n",
    "element2 <- SpatialPolygonsDataFrame(element,OutDF,match.ID = FALSE)\n",
    "element2 <- subset(element2, TOTAL>0)  \n",
    "element2@data"
   ]
  },
  {
   "cell_type": "code",
   "execution_count": null,
   "metadata": {
    "scrolled": true,
    "slideshow": {
     "slide_type": "slide"
    }
   },
   "outputs": [],
   "source": [
    "if(nrow(element2@data)>1)\n",
    "  {\n",
    "    renderer <- colorQuantile(\"RdYlBu\",domain=element2$PROMEDIO, reverse=T)\n",
    "    mapa_salida <- leaflet(element2) %>%\n",
    "      addProviderTiles(providers$Esri)  %>%\n",
    "      addPolygons(\n",
    "        color=~renderer(PROMEDIO)\n",
    "      ) %>%\n",
    "      addLegend(pal=renderer, values = element2$PROMEDIO,title=\"Promedio contratado\")\n",
    "    \n",
    "  } else {\n",
    "      mapa_salida <- leaflet(element2) %>%\n",
    "      addProviderTiles(providers$Esri) %>%\n",
    "        addPolygons()\n",
    "}\n"
   ]
  },
  {
   "cell_type": "code",
   "execution_count": null,
   "metadata": {
    "scrolled": true,
    "slideshow": {
     "slide_type": "slide"
    }
   },
   "outputs": [],
   "source": [
    "mapa_salida"
   ]
  },
  {
   "cell_type": "code",
   "execution_count": null,
   "metadata": {
    "scrolled": true,
    "slideshow": {
     "slide_type": "slide"
    }
   },
   "outputs": [],
   "source": [
    "arc.write(salida_shape,element2)"
   ]
  },
  {
   "cell_type": "markdown",
   "metadata": {
    "slideshow": {
     "slide_type": "slide"
    }
   },
   "source": [
    "## Construcción de Reporte de Salida"
   ]
  },
  {
   "cell_type": "code",
   "execution_count": null,
   "metadata": {
    "scrolled": true,
    "slideshow": {
     "slide_type": "slide"
    }
   },
   "outputs": [],
   "source": [
    "parametros_reporte <- list(\n",
    "    tabla_consulta = df_cp,\n",
    "    texto_consulta = querybase, \n",
    "    tabla_resumen = summary_year,\n",
    "    mapa_salida = mapa_salida,\n",
    "    grafico_municipios = grafica_mun,\n",
    "    graficas_individuales = lista_graficas,\n",
    "    promedio_por_departamento = promedio_por_departamento\n",
    "  )\n",
    "  render(pathReporte, output_file = salida_reporte,\n",
    "         params=parametros_reporte,\n",
    "         output_format = output_report_format,encoding = \"UTF-8\" )"
   ]
  }
 ],
 "metadata": {
  "celltoolbar": "Slideshow",
  "kernelspec": {
   "display_name": "R",
   "language": "R",
   "name": "ir"
  },
  "language_info": {
   "codemirror_mode": "r",
   "file_extension": ".r",
   "mimetype": "text/x-r-source",
   "name": "R",
   "pygments_lexer": "r",
   "version": "3.5.1"
  }
 },
 "nbformat": 4,
 "nbformat_minor": 2
}
