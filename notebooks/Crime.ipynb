{
 "cells": [
  {
   "cell_type": "markdown",
   "metadata": {},
   "source": [
    "# Analisis de Datos vector con R y Arcgis\n",
    "\n",
    "Análisis basado en el tutorial de [Análisis de delitos]( https://learn.arcgis.com/es/projects/analyze-crime-using-statistics-and-the-r-arcgis-bridge/) regionalizado a la Ciudad de Medellín con datos del SISC (Sistema de Información para la Seguridad y Convivencia) publicados en el portal de mapas de Medellín. \n",
    "\n",
    "## 1. Instalación de R-Arcgis-Bridge y Preparación de los datos de análisis\n",
    "\n",
    "![Ejecutar usando kernel python](https://www.python.org/static/img/python-logo.png)\n"
   ]
  },
  {
   "cell_type": "code",
   "execution_count": null,
   "metadata": {},
   "outputs": [],
   "source": [
    "import arcgis, os\n",
    "import arcpy\n",
    "from arcgis.gis import GIS\n",
    "from arcgis.features import SpatialDataFrame\n",
    "from IPython.display import display\n",
    "# Create a GIS object, as an anonymous user for this example\n",
    "gis = GIS()\n"
   ]
  },
  {
   "cell_type": "code",
   "execution_count": null,
   "metadata": {},
   "outputs": [],
   "source": [
    "arcpy.env.qualifiedFieldNames = False\n",
    "gdb = \"c:\\\\esri\\\\r-arcgis-tools\\\\seguridad.gdb\"\n",
    "murders = \"{0}\\\\{1}\".format(gdb,\"homicidios\") \n",
    "robos = \"{0}\\\\{1}\".format(gdb,\"\")\n",
    "work_dir = \"c:\\\\esri\\\\crime\"\n",
    "work_gdb = \"{0}\\\\analysis.gdb\".format(work_dir)\n",
    "cubo = \"{0}\\\\{1}\".format(work_dir,\"cubo\")\n",
    "cubo_file = \"{0}.nc\".format(cubo)\n",
    "hotspot_salida = \"{0}\\\\hotspot\".format(work_gdb)\n",
    "hotspot_enriquecido = \"{0}\\\\hotspot_enrich\".format(work_gdb)\n",
    "hotspot_suavizado =  \"{0}\\\\hotspot_smooth\".format(work_gdb)\n",
    "hotspot_optimizado =  \"{0}\\\\hotspot_optimized\".format(work_gdb)"
   ]
  },
  {
   "cell_type": "code",
   "execution_count": null,
   "metadata": {},
   "outputs": [],
   "source": [
    "if os.path.exists(cubo_file):\n",
    "    os.remove(cubo_file)\n",
    "if arcpy.Exists(hotspot_salida):\n",
    "    arcpy.Delete_management(hotspot_salida)\n",
    "if arcpy.Exists(hotspot_enriquecido):\n",
    "    arcpy.Delete_management(hotspot_enriquecido)\n",
    "if arcpy.Exists(hotspot_suavizado):\n",
    "    arcpy.Delete_management(hotspot_suavizado)\n",
    "if arcpy.Exists(hotspot_suavizado):\n",
    "    arcpy.Delete_management(hotspot_suavizado)\n",
    "if arcpy.Exists(hotspot_optimizado):\n",
    "    arcpy.Delete_management(hotspot_optimizado)\n",
    "    \n",
    "if not os.path.exists(work_gdb):\n",
    "    names = work_gdb.split(\"\\\\\")\n",
    "    idx = len(names)-1\n",
    "    out_name = names[idx]\n",
    "    out_folder = work_gdb.replace(\"\\\\\"+out_name,\"\")\n",
    "    arcpy.CreateFileGDB_management(out_folder,out_name)\n",
    "cubo_file"
   ]
  },
  {
   "cell_type": "code",
   "execution_count": null,
   "metadata": {},
   "outputs": [],
   "source": [
    "murders\n",
    "spdf = SpatialDataFrame.from_featureclass(murders)\n",
    "mapa = gis.map('Medellin')\n",
    "mapa\n",
    "spdf.plot(kind='map', map_widget= mapa)"
   ]
  },
  {
   "cell_type": "code",
   "execution_count": null,
   "metadata": {
    "scrolled": true
   },
   "outputs": [],
   "source": [
    "mapa"
   ]
  },
  {
   "cell_type": "markdown",
   "metadata": {},
   "source": [
    "### 1.1 Crear cubo espacio temporal por agregación de puntos\n",
    "\n",
    "Para más información [acá](https://pro.arcgis.com/es/pro-app/tool-reference/space-time-pattern-mining/create-space-time-cube.htm)\n",
    "\n"
   ]
  },
  {
   "cell_type": "code",
   "execution_count": null,
   "metadata": {},
   "outputs": [],
   "source": [
    "campo_tiempo = \"FECHA\"\n",
    "distancia = 300\n",
    "distance_interval =  \"{0} meters\".format(distancia)\n"
   ]
  },
  {
   "cell_type": "code",
   "execution_count": null,
   "metadata": {},
   "outputs": [],
   "source": [
    "arcpy.CreateSpaceTimeCube_stpm (\n",
    "    murders,\n",
    "    cubo,\n",
    "    campo_tiempo,\n",
    "    time_step_interval = \"1 Months\",\n",
    "    time_step_alignment = \"End time\",\n",
    "    distance_interval = distance_interval,\n",
    "    aggregation_shape_type = \"HEXAGON_GRID\"\n",
    "    )\n"
   ]
  },
  {
   "cell_type": "markdown",
   "metadata": {},
   "source": [
    "### 1.2 Crear un Hotspot\n",
    "\n",
    "Para mas información [acá](https://pro.arcgis.com/en/pro-app/tool-reference/space-time-pattern-mining/emerginghotspots.htm)"
   ]
  },
  {
   "cell_type": "code",
   "execution_count": null,
   "metadata": {},
   "outputs": [],
   "source": [
    "variable_analysis = \"COUNT\"\n",
    "\n"
   ]
  },
  {
   "cell_type": "code",
   "execution_count": null,
   "metadata": {},
   "outputs": [],
   "source": [
    "arcpy.EmergingHotSpotAnalysis_stpm(\n",
    "    cubo,\n",
    "    variable_analysis,\n",
    "    hotspot_salida,\n",
    "    conceptualization_of_spatial_relationships =  \"FIXED_DISTANCE\",\n",
    "    define_global_window=\"ENTIRE_CUBE\"\n",
    ")"
   ]
  },
  {
   "cell_type": "code",
   "execution_count": null,
   "metadata": {
    "scrolled": true
   },
   "outputs": [],
   "source": [
    "mapa2 = gis.map('Medellin')\n",
    "spdf2 = SpatialDataFrame.from_featureclass(hotspot_salida)\n",
    "spdf2.plot(kind='map', map_widget=mapa2, renderer_type='u', col =\"PATTERN\" )\n",
    "mapa2"
   ]
  },
  {
   "cell_type": "markdown",
   "metadata": {},
   "source": [
    "## 2. Enriquecer los datos con ayuda de ArcGIS Online\n",
    "\n",
    "2. Encontrar variables relacionadas para cada celda, con datos locales, para más información [aca](https://pro.arcgis.com/es/pro-app/tool-reference/analysis/enrich-layer.htm)\n"
   ]
  },
  {
   "cell_type": "code",
   "execution_count": null,
   "metadata": {},
   "outputs": [],
   "source": [
    "vars = \"populationtotals.totpop_cy;gender.males_cy;gender.females_cy;householdsbyincome.hinc01_cy;householdsbyincome.hinc02_cy;householdsbyincome.hinc03_cy;householdsbyincome.hinc04_cy;householdsbyincome.hinc05_cy;keyfacts.pp_cy;keyfacts.ppprm_cy;keyfacts.pppc_cy;keyfacts.ppidx_cy;spending.cs01_cy;spending.cs04_cy\"\n"
   ]
  },
  {
   "cell_type": "code",
   "execution_count": null,
   "metadata": {},
   "outputs": [],
   "source": [
    "arcpy.Enrich_analysis(hotspot_salida,hotspot_enriquecido,vars)"
   ]
  },
  {
   "cell_type": "markdown",
   "metadata": {},
   "source": [
    "## 3. Realizar análisis estadísticos con la ayuda de R y R-ArcgisBinding\n",
    "\n",
    "![Use Kernel R](https://www.r-project.org/Rlogo.png) "
   ]
  },
  {
   "cell_type": "code",
   "execution_count": null,
   "metadata": {},
   "outputs": [],
   "source": [
    "library (reshape2)\n",
    "library (ggplot2)\n",
    "library (ggmap)\n",
    "library(sp)\n",
    "library(spdep)\n",
    "library(dplyr)\n",
    "library(arcgisbinding)\n"
   ]
  },
  {
   "cell_type": "code",
   "execution_count": null,
   "metadata": {},
   "outputs": [],
   "source": [
    "arc.check_product()"
   ]
  },
  {
   "cell_type": "markdown",
   "metadata": {},
   "source": [
    "### Funciones predefinidas para cálculos"
   ]
  },
  {
   "cell_type": "code",
   "execution_count": null,
   "metadata": {},
   "outputs": [],
   "source": [
    "# Get lower triangle of the correlation matrix\n",
    "get_lower_tri<-function(cormat) {\n",
    "  cormat[upper.tri(cormat)] <- NA\n",
    "  return(cormat)\n",
    "}\n",
    "#\n",
    "# Get upper triangle of the correlation matrix\n",
    "get_upper_tri <- function(cormat) {\n",
    "  cormat[lower.tri(cormat)] <- NA\n",
    "  return(cormat)\n",
    "}\n",
    "#\n",
    "reorder_cormat <- function(cormat) {\n",
    "  # Use correlation between variables as distance\n",
    "  dd <- as.dist((1-cormat) / 2)\n",
    "  hc <- hclust(dd)\n",
    "  cormat <- cormat [hc$order, hc$order]\n",
    "}\n"
   ]
  },
  {
   "cell_type": "code",
   "execution_count": null,
   "metadata": {},
   "outputs": [],
   "source": [
    "pathds <- \"c:\\\\esri\\\\crime\\\\analysis.gdb\\\\hotspot_enrich\"\n",
    "pathdssuavizado <- \"c:\\\\esri\\\\crime\\\\analysis.gdb\\\\hotspot_smooth\""
   ]
  },
  {
   "cell_type": "markdown",
   "metadata": {},
   "source": [
    "Uso de R-ArcGIS-bridge para cargar datos en el workspace de R"
   ]
  },
  {
   "cell_type": "code",
   "execution_count": null,
   "metadata": {},
   "outputs": [],
   "source": [
    "enrichdf <- arc.open(path=pathds)\n",
    "enrichdf"
   ]
  },
  {
   "cell_type": "code",
   "execution_count": null,
   "metadata": {},
   "outputs": [],
   "source": [
    "columnasDS <- c( 'OBJECTID','SUM_VALUE','populationtotals_totpop_cy','gender_males_cy','gender_females_cy','householdsbyincome_hinc01_cy', \n",
    "'householdsbyincome_hinc02_cy','householdsbyincome_hinc03_cy', \n",
    " 'householdsbyincome_hinc04_cy','householdsbyincome_hinc05_cy', \n",
    "'keyfacts_pp_cy','keyfacts_ppprm_cy','keyfacts_pppc_cy', \n",
    "'keyfacts_ppidx_cy','spending_cs01_cy','spending_cs04_cy')"
   ]
  },
  {
   "cell_type": "code",
   "execution_count": null,
   "metadata": {},
   "outputs": [],
   "source": [
    "enrich_select_df <- arc.select(object = enrichdf, fields = columnasDS )\n",
    "enrich_select_df"
   ]
  },
  {
   "cell_type": "code",
   "execution_count": null,
   "metadata": {},
   "outputs": [],
   "source": [
    "enrich_spdf <- arc.data2sp(enrich_select_df)\n",
    "enrich_spdf"
   ]
  },
  {
   "cell_type": "code",
   "execution_count": null,
   "metadata": {},
   "outputs": [],
   "source": [
    "plot(enrich_spdf)"
   ]
  },
  {
   "cell_type": "code",
   "execution_count": null,
   "metadata": {},
   "outputs": [],
   "source": [
    "colnames(enrich_spdf@data) <- columnasDS\n",
    "colnames(enrich_spdf@data)\n",
    "filtrado <- filter(enrich_spdf@data,populationtotals_totpop_cy>0)\n",
    "head(filtrado)"
   ]
  },
  {
   "cell_type": "markdown",
   "metadata": {},
   "source": [
    "## 3.1. Calculo de Indice de criminalidad suavizado\n",
    "Estimador bayesiano de criminalidad véase [Global Empirical Bayes Estimator](https://www.rdocumentation.org/packages/spdep/versions/1.1-2/topics/EBest)\n"
   ]
  },
  {
   "cell_type": "code",
   "execution_count": null,
   "metadata": {},
   "outputs": [],
   "source": [
    "n <- filtrado$SUM_VALUE\n",
    "x <- filtrado$populationtotals_totpop_cy\n",
    "EB <- EBest (n, x)\n",
    "p <- EB$raw\n",
    "b <- attr(EB, \"parameters\")$b\n",
    "a <- attr(EB, \"parameters\")$a\n",
    "v <- a + (b/x)\n",
    "v[v < 0] <- b/x\n",
    "z <- (p - b)/sqrt(v)\n"
   ]
  },
  {
   "cell_type": "code",
   "execution_count": null,
   "metadata": {},
   "outputs": [],
   "source": [
    "m <- attr(EB, \"parameters\")$m\n",
    "m\n",
    "a \n",
    "b\n",
    "\n",
    "EB\n"
   ]
  },
  {
   "cell_type": "code",
   "execution_count": null,
   "metadata": {},
   "outputs": [],
   "source": [
    "z"
   ]
  },
  {
   "cell_type": "code",
   "execution_count": null,
   "metadata": {},
   "outputs": [],
   "source": [
    "newds <- filtrado\n",
    "newds$EB_Rate <- z"
   ]
  },
  {
   "cell_type": "code",
   "execution_count": null,
   "metadata": {},
   "outputs": [],
   "source": [
    "enrich_spdf@data <- newds\n",
    "arc.write(pathdssuavizado,enrich_spdf)"
   ]
  },
  {
   "cell_type": "code",
   "execution_count": null,
   "metadata": {},
   "outputs": [],
   "source": [
    "library (ggmap)"
   ]
  },
  {
   "cell_type": "code",
   "execution_count": null,
   "metadata": {},
   "outputs": [],
   "source": [
    "analysisColumns =c(columnasDS[2:12],\"EB_Rate\")\n",
    "analysisColumns"
   ]
  },
  {
   "cell_type": "markdown",
   "metadata": {},
   "source": [
    "### 3.2 Análisis de Correlaciones con variables relacionadas"
   ]
  },
  {
   "cell_type": "code",
   "execution_count": null,
   "metadata": {},
   "outputs": [],
   "source": [
    "corr_sub <- newds [ analysisColumns]\n",
    "cormax <- round (cor(corr_sub), 2)\n",
    "upper_tri <- get_upper_tri (cormax)\n",
    "melted_cormax <- melt (upper_tri, na.rm = TRUE)\n",
    "cormax <- reorder_cormat (cormax)\n",
    "upper_tri <- get_upper_tri (cormax)\n",
    "melted_cormax <- melt (upper_tri, na.rm = TRUE)\n",
    "ggheatmap <- ggplot (melted_cormax, aes (Var2, Var1, fill = value)) +\n",
    "  geom_tile(color = \"white\") +\n",
    "  scale_fill_gradient2 (low = \"blue\", high = \"red\", mid = \"white\", midpoint = 0, limit = c(-1,1), space = \"Lab\", name = \"Pearson\\nCorrelation\") +\n",
    "  theme_minimal() + # minimal theme\n",
    "  theme (axis.text.x = element_text(angle = 45, vjust = 1, size = 12, hjust = 1)) +\n",
    "  coord_fixed()\n",
    "print (ggheatmap)\n",
    "ggheatmap +\n",
    "  geom_text (aes (Var2, Var1, label = value), color = \"black\", size = 4) +\n",
    "  theme (\n",
    "    axis.title.x = element_blank(),\n",
    "    axis.title.y = element_blank(),\n",
    "    panel.grid.major = element_blank(),\n",
    "    panel.border = element_blank(),\n",
    "    axis.ticks = element_blank(),\n",
    "    legend.justification = c (1, 0),\n",
    "    legend.position = c (0.6, 0.7),\n",
    "    legend.direction = \"horizontal\") +\n",
    "  guides (fill = guide_colorbar (barwidth = 7, barheight = 1, title.position = \"top\", title.hjust = 0.5))"
   ]
  },
  {
   "cell_type": "markdown",
   "metadata": {},
   "source": [
    "### Mejorar el Hotspot de Salida\n",
    "\n",
    "![Ejecutar usando kernel python](https://www.python.org/static/img/python-logo.png)\n"
   ]
  },
  {
   "cell_type": "code",
   "execution_count": null,
   "metadata": {},
   "outputs": [],
   "source": [
    "import arcpy\n",
    "from arcgis.gis import GIS\n",
    "from arcgis.features import SpatialDataFrame\n",
    "arcpy.env.qualifiedFieldNames = False\n",
    "gis = GIS()"
   ]
  },
  {
   "cell_type": "code",
   "execution_count": null,
   "metadata": {},
   "outputs": [],
   "source": [
    "work_dir = \"c:\\\\esri\\\\crime\"\n",
    "work_gdb = \"{0}\\\\analysis.gdb\".format(work_dir)\n",
    "hotspot_suavizado =\"{0}\\\\hotspot_smooth\".format(work_gdb)\n",
    "hotspot_optimizado =  \"{0}\\\\hotspot_optimized\".format(work_gdb)\n",
    "hotspot_optimizado"
   ]
  },
  {
   "cell_type": "code",
   "execution_count": null,
   "metadata": {},
   "outputs": [],
   "source": [
    "Analysis_Field = \"EB_Rate\"\n",
    "arcpy.OptimizedHotSpotAnalysis_stats(\n",
    "    hotspot_suavizado,\n",
    "    hotspot_optimizado,\n",
    "    Analysis_Field = Analysis_Field\n",
    ")"
   ]
  },
  {
   "cell_type": "code",
   "execution_count": null,
   "metadata": {},
   "outputs": [],
   "source": [
    "spdf_salida = SpatialDataFrame.from_featureclass(hotspot_optimizado)\n"
   ]
  },
  {
   "cell_type": "code",
   "execution_count": null,
   "metadata": {},
   "outputs": [],
   "source": [
    "mapa_salida = gis.map('Medellin')\n",
    "spdf_salida.plot(kind='map', map_widget= mapa_salida, renderer_type='u', col =\"Gi_Bin\")\n",
    "mapa_salida\n"
   ]
  }
 ],
 "metadata": {
  "kernelspec": {
   "display_name": "Python 3",
   "language": "python",
   "name": "python3"
  },
  "language_info": {
   "codemirror_mode": {
    "name": "ipython",
    "version": 3
   },
   "file_extension": ".py",
   "mimetype": "text/x-python",
   "name": "python",
   "nbconvert_exporter": "python",
   "pygments_lexer": "ipython3",
   "version": "3.6.6"
  }
 },
 "nbformat": 4,
 "nbformat_minor": 2
}
