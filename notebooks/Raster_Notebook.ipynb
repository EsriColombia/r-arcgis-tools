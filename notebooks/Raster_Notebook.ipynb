{
 "cells": [
  {
   "cell_type": "markdown",
   "metadata": {},
   "source": [
    "# Ejemplo de R-Arcgis-Bridge con Datos Raster"
   ]
  },
  {
   "cell_type": "markdown",
   "metadata": {},
   "source": [
    "Ejemplo del uso de r-arcgis-bridge con datos raster. Se realiza la exploración de un fichero raster y una clasificación no supervisada con K-means. \n",
    "\n",
    "![Use Kernel R](https://www.r-project.org/Rlogo.png) Use Kernel R"
   ]
  },
  {
   "cell_type": "code",
   "execution_count": null,
   "metadata": {},
   "outputs": [],
   "source": [
    "library(sp) \n",
    "library(raster)\n",
    "library(arcgisbinding)\n",
    "library(cluster)\n",
    "\n",
    "arc.check_product()\n"
   ]
  },
  {
   "cell_type": "code",
   "execution_count": null,
   "metadata": {},
   "outputs": [],
   "source": [
    "working_directory <- \"C:\\\\esri\\\\r-arcgis-tools\\\\datasets\"\n",
    "setwd(working_directory)\n",
    "path_raster_entrada <- paste(working_directory,\"\\\\cartagena.gdb\\\\cartagena\",sep=\"\")\n",
    "path_raster_img <- \"c:\\\\esri\\\\raster\\\\raster_salida.img\""
   ]
  },
  {
   "cell_type": "code",
   "execution_count": null,
   "metadata": {},
   "outputs": [],
   "source": [
    "#Leer raster de entrada\n",
    "obj_data <- arc.open(path_raster_entrada)\n",
    "#Convertirlo en un objeto r-arcgis\n",
    "arc_raster <- arc.raster(obj_data)\n",
    "#Convertirlo en un objeto raster\n",
    "mi_raster <- as.raster(arc_raster)"
   ]
  },
  {
   "cell_type": "code",
   "execution_count": null,
   "metadata": {},
   "outputs": [],
   "source": [
    "mi_raster\n",
    "?raster\n",
    "ras <- stack(mi_raster)\n",
    "?ras"
   ]
  },
  {
   "cell_type": "code",
   "execution_count": null,
   "metadata": {},
   "outputs": [],
   "source": [
    "banda_2 <- ras@layers[2][[1]]\n",
    "banda_2\n"
   ]
  },
  {
   "cell_type": "code",
   "execution_count": null,
   "metadata": {},
   "outputs": [],
   "source": [
    "hist(getValues(banda_2))\n",
    "hist(mi_raster[], main=NULL)\n",
    "\n",
    "dim(mi_raster)"
   ]
  },
  {
   "cell_type": "markdown",
   "metadata": {},
   "source": [
    "## Color Natural "
   ]
  },
  {
   "cell_type": "code",
   "execution_count": null,
   "metadata": {},
   "outputs": [],
   "source": [
    "plotRGB(mi_raster,r=4,g=3,b=2)"
   ]
  },
  {
   "cell_type": "code",
   "execution_count": null,
   "metadata": {},
   "outputs": [],
   "source": [
    "plotRGB(mi_raster,r=4,g=3,b=2, stretch=\"hist\")"
   ]
  },
  {
   "cell_type": "markdown",
   "metadata": {},
   "source": [
    "# Falso color (urbano)\t7 6 4"
   ]
  },
  {
   "cell_type": "code",
   "execution_count": null,
   "metadata": {},
   "outputs": [],
   "source": [
    "plotRGB(mi_raster,r=7,g=6,b=4, stretch=\"hist\")"
   ]
  },
  {
   "cell_type": "markdown",
   "metadata": {},
   "source": [
    "## Color infrarrojo (vegetación)\t5 4 3"
   ]
  },
  {
   "cell_type": "code",
   "execution_count": null,
   "metadata": {},
   "outputs": [],
   "source": [
    "plotRGB(mi_raster,r=5,g=4,b=3, stretch=\"hist\")"
   ]
  },
  {
   "cell_type": "markdown",
   "metadata": {},
   "source": [
    "### Agricultura"
   ]
  },
  {
   "cell_type": "code",
   "execution_count": null,
   "metadata": {},
   "outputs": [],
   "source": [
    "plotRGB(mi_raster,r=6,g=5,b=2, stretch=\"hist\")"
   ]
  },
  {
   "cell_type": "markdown",
   "metadata": {},
   "source": [
    "### Penetracion Atmosférica"
   ]
  },
  {
   "cell_type": "code",
   "execution_count": null,
   "metadata": {},
   "outputs": [],
   "source": [
    "plotRGB(mi_raster,r=7,g=6,b=5, stretch=\"hist\")"
   ]
  },
  {
   "cell_type": "code",
   "execution_count": null,
   "metadata": {},
   "outputs": [],
   "source": [
    "#Análisis de vegetación\t6 5 4\n",
    "plotRGB(mi_raster,r=6,g=5,b=4, stretch=\"hist\")"
   ]
  },
  {
   "cell_type": "markdown",
   "metadata": {},
   "source": [
    "### Uso del Algoritmo de clasificación K-means"
   ]
  },
  {
   "cell_type": "code",
   "execution_count": null,
   "metadata": {},
   "outputs": [],
   "source": [
    "#kmean calssification\n",
    "?kmeans\n",
    "\n",
    "\n",
    "v <- getValues(mi_raster)\n",
    "i <- which(!is.na(v))\n",
    "v <- na.omit(v)\n",
    "\n",
    "E <- kmeans(v,12,iter.max = 100, nstart = 10)\n",
    "kmeans_raster <- raster(mi_raster)\n",
    "kmeans_raster[i] <- E$cluster\n",
    "kmeans_raster"
   ]
  },
  {
   "cell_type": "code",
   "execution_count": null,
   "metadata": {},
   "outputs": [],
   "source": [
    "plot(kmeans_raster)"
   ]
  },
  {
   "cell_type": "markdown",
   "metadata": {},
   "source": [
    "### Guardando archivo\n",
    "\n",
    "Este paso escribe el resultado como fichero .img"
   ]
  },
  {
   "cell_type": "code",
   "execution_count": null,
   "metadata": {},
   "outputs": [],
   "source": [
    "writeRaster(kmeans_raster, path_raster_img, format=\"HFA\")\n"
   ]
  },
  {
   "cell_type": "markdown",
   "metadata": {},
   "source": [
    "Este paso guarda el raster en una database ESRI"
   ]
  },
  {
   "cell_type": "code",
   "execution_count": null,
   "metadata": {},
   "outputs": [],
   "source": [
    "path_raster_kmeans <- paste(working_directory,\"\\\\cartagena.gdb\\\\cartagenakmeans\",sep=\"\")\n",
    "arc.write(path_raster_kmeans, kmeans_raster)"
   ]
  }
 ],
 "metadata": {
  "kernelspec": {
   "display_name": "R",
   "language": "R",
   "name": "ir"
  },
  "language_info": {
   "codemirror_mode": "r",
   "file_extension": ".r",
   "mimetype": "text/x-r-source",
   "name": "R",
   "pygments_lexer": "r",
   "version": "3.5.2"
  }
 },
 "nbformat": 4,
 "nbformat_minor": 2
}
