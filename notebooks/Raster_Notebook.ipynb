{
 "cells": [
  {
   "cell_type": "markdown",
   "metadata": {
    "slideshow": {
     "slide_type": "slide"
    }
   },
   "source": [
    "# Ejemplo de R-Arcgis-Bridge con Datos Raster"
   ]
  },
  {
   "cell_type": "markdown",
   "metadata": {
    "slideshow": {
     "slide_type": "subslide"
    }
   },
   "source": [
    "Ejemplo del uso de r-arcgis-bridge con datos raster. Se realiza la exploración de un fichero raster y una clasificación no supervisada con K-means. \n",
    "\n",
    "![Use Kernel R](https://www.r-project.org/Rlogo.png) Use Kernel R"
   ]
  },
  {
   "cell_type": "code",
   "execution_count": null,
   "metadata": {
    "scrolled": true,
    "slideshow": {
     "slide_type": "slide"
    }
   },
   "outputs": [],
   "source": [
    "library(arcgisbinding)\n",
    "library(raster)\n",
    "library(cluster)\n",
    "library(leaflet)\n",
    "library(leaflet.esri)\n",
    "library(ggplot2)\n",
    "library(dplyr)\n",
    "library(sp) \n",
    "arc.check_product()\n"
   ]
  },
  {
   "cell_type": "code",
   "execution_count": null,
   "metadata": {
    "scrolled": false,
    "slideshow": {
     "slide_type": "slide"
    }
   },
   "outputs": [],
   "source": [
    "working_directory <- \"C:\\\\esri\\\\r-arcgis-tools\\\\datasets\"\n",
    "setwd(working_directory)\n",
    "path_raster_entrada <- paste(working_directory,\"\\\\cartagena.gdb\\\\cartagena\",sep=\"\")\n",
    "path_raster_img <- \"c:\\\\esri\\\\env\\\\rastersalida.img\""
   ]
  },
  {
   "cell_type": "code",
   "execution_count": null,
   "metadata": {
    "scrolled": true,
    "slideshow": {
     "slide_type": "slide"
    }
   },
   "outputs": [],
   "source": [
    "#Leer raster de entrada\n",
    "obj_data <- arc.open(path_raster_entrada)\n",
    "#Convertirlo en un objeto r-arcgis\n",
    "arc_raster <- arc.raster(obj_data)\n",
    "#Convertirlo en un objeto raster\n",
    "mi_raster <- as.raster(arc_raster)"
   ]
  },
  {
   "cell_type": "code",
   "execution_count": null,
   "metadata": {
    "scrolled": true,
    "slideshow": {
     "slide_type": "slide"
    }
   },
   "outputs": [],
   "source": [
    "mi_raster\n",
    "dim(mi_raster)\n",
    "ras <- stack(mi_raster)\n",
    "ras"
   ]
  },
  {
   "cell_type": "markdown",
   "metadata": {
    "slideshow": {
     "slide_type": "slide"
    }
   },
   "source": [
    "# Exploracion de Datos"
   ]
  },
  {
   "cell_type": "code",
   "execution_count": null,
   "metadata": {
    "scrolled": true,
    "slideshow": {
     "slide_type": "subslide"
    }
   },
   "outputs": [],
   "source": [
    "banda_2 <- ras@layers[2][[1]]\n",
    "banda_2\n"
   ]
  },
  {
   "cell_type": "code",
   "execution_count": null,
   "metadata": {
    "scrolled": true,
    "slideshow": {
     "slide_type": "slide"
    }
   },
   "outputs": [],
   "source": [
    "banda5 <- subset(ras,5)\n",
    "banda5"
   ]
  },
  {
   "cell_type": "code",
   "execution_count": null,
   "metadata": {
    "scrolled": true,
    "slideshow": {
     "slide_type": "slide"
    }
   },
   "outputs": [],
   "source": [
    "hist(getValues(banda5))\n"
   ]
  },
  {
   "cell_type": "markdown",
   "metadata": {
    "slideshow": {
     "slide_type": "slide"
    }
   },
   "source": [
    "## Exploracion de datos con ggplot2"
   ]
  },
  {
   "cell_type": "code",
   "execution_count": null,
   "metadata": {
    "scrolled": true,
    "slideshow": {
     "slide_type": "subslide"
    }
   },
   "outputs": [],
   "source": [
    "## Filtrado de valores digitales para no ver los ceros\n",
    "vals_hist <- data.frame(x=getValues(banda_2))\n",
    "vals_hist <- filter(vals_hist,x>0)\n",
    "\n",
    "## Dibujando\n",
    "figura1 <- ggplot(vals_hist,aes(x=x)) + geom_histogram(fill=\"darkblue\")\n",
    "figura1"
   ]
  },
  {
   "cell_type": "markdown",
   "metadata": {
    "slideshow": {
     "slide_type": "slide"
    }
   },
   "source": [
    "# Combinaciones de bandas\n",
    "\n",
    "[Referencia de combinaciones de bandas para landsat 8](https://www.esri.com/arcgis-blog/products/product/imagery/band-combinations-for-landsat-8/)\n",
    "\n",
    "## Color Natural \n"
   ]
  },
  {
   "cell_type": "code",
   "execution_count": null,
   "metadata": {
    "scrolled": true,
    "slideshow": {
     "slide_type": "slide"
    }
   },
   "outputs": [],
   "source": [
    "plotRGB(mi_raster,r=4,g=3,b=2)"
   ]
  },
  {
   "cell_type": "code",
   "execution_count": null,
   "metadata": {
    "scrolled": true,
    "slideshow": {
     "slide_type": "slide"
    }
   },
   "outputs": [],
   "source": [
    "plotRGB(mi_raster,r=4,g=3,b=2, stretch=\"hist\")"
   ]
  },
  {
   "cell_type": "markdown",
   "metadata": {
    "slideshow": {
     "slide_type": "slide"
    }
   },
   "source": [
    "# Falso color (urbano)\t7 6 4"
   ]
  },
  {
   "cell_type": "code",
   "execution_count": null,
   "metadata": {
    "scrolled": true,
    "slideshow": {
     "slide_type": "subslide"
    }
   },
   "outputs": [],
   "source": [
    "plotRGB(mi_raster,r=7,g=6,b=4, stretch=\"hist\")"
   ]
  },
  {
   "cell_type": "markdown",
   "metadata": {
    "slideshow": {
     "slide_type": "slide"
    }
   },
   "source": [
    "## Color infrarrojo (vegetación)\t5 4 3"
   ]
  },
  {
   "cell_type": "code",
   "execution_count": null,
   "metadata": {
    "scrolled": true,
    "slideshow": {
     "slide_type": "subslide"
    }
   },
   "outputs": [],
   "source": [
    "plotRGB(mi_raster,r=5,g=4,b=3, stretch=\"hist\")"
   ]
  },
  {
   "cell_type": "markdown",
   "metadata": {
    "slideshow": {
     "slide_type": "slide"
    }
   },
   "source": [
    "### Agricultura"
   ]
  },
  {
   "cell_type": "code",
   "execution_count": null,
   "metadata": {
    "scrolled": true,
    "slideshow": {
     "slide_type": "subslide"
    }
   },
   "outputs": [],
   "source": [
    "plotRGB(mi_raster,r=6,g=5,b=2, stretch=\"hist\")"
   ]
  },
  {
   "cell_type": "markdown",
   "metadata": {
    "slideshow": {
     "slide_type": "slide"
    }
   },
   "source": [
    "### Penetracion Atmosférica"
   ]
  },
  {
   "cell_type": "code",
   "execution_count": null,
   "metadata": {
    "scrolled": true,
    "slideshow": {
     "slide_type": "subslide"
    }
   },
   "outputs": [],
   "source": [
    "plotRGB(mi_raster,r=7,g=6,b=5, stretch=\"hist\")"
   ]
  },
  {
   "cell_type": "code",
   "execution_count": null,
   "metadata": {
    "scrolled": true,
    "slideshow": {
     "slide_type": "slide"
    }
   },
   "outputs": [],
   "source": [
    "#Análisis de vegetación\t6 5 4\n",
    "plotRGB(mi_raster,r=6,g=5,b=4, stretch=\"hist\")"
   ]
  },
  {
   "cell_type": "markdown",
   "metadata": {
    "slideshow": {
     "slide_type": "slide"
    }
   },
   "source": [
    "## Calculo del Indice de vegetación NVDI\n",
    "[Véase](https://pro.arcgis.com/es/pro-app/help/data/imagery/ndvi-function.htm) \n",
    "\n",
    "\n",
    "$NVDI = \\frac{BNIR - BR}{BNIR + BR} $\n"
   ]
  },
  {
   "cell_type": "code",
   "execution_count": null,
   "metadata": {
    "scrolled": false,
    "slideshow": {
     "slide_type": "subslide"
    }
   },
   "outputs": [],
   "source": [
    "banda5 <- subset(ras,5)\n",
    "banda4 <- subset(ras,4)\n",
    "nvdi = (banda5-banda4)/(banda4+banda5)\n",
    "\n",
    "graficaNVDI <- leaflet() %>% \n",
    "            addEsriBasemapLayer(esriBasemapLayers$Imagery) %>%\n",
    "            addRasterImage(nvdi, colors = \"Spectral\", opacity=0.8)\n",
    "\n"
   ]
  },
  {
   "cell_type": "code",
   "execution_count": null,
   "metadata": {
    "scrolled": false,
    "slideshow": {
     "slide_type": "slide"
    }
   },
   "outputs": [],
   "source": [
    "graficaNVDI"
   ]
  },
  {
   "cell_type": "markdown",
   "metadata": {
    "slideshow": {
     "slide_type": "slide"
    }
   },
   "source": [
    "### Uso del Algoritmo de clasificación K-means"
   ]
  },
  {
   "cell_type": "code",
   "execution_count": null,
   "metadata": {
    "scrolled": true,
    "slideshow": {
     "slide_type": "slide"
    }
   },
   "outputs": [],
   "source": [
    "#kmean calssification\n",
    "?kmeans\n",
    "\n",
    "\n",
    "v <- getValues(mi_raster)\n",
    "i <- which(!is.na(v))\n",
    "v <- na.omit(v)\n",
    "\n",
    "E <- kmeans(v,5,iter.max = 100, nstart = 10)\n",
    "kmeans_raster <- raster(mi_raster)\n",
    "kmeans_raster[i] <- E$cluster\n",
    "kmeans_raster"
   ]
  },
  {
   "cell_type": "code",
   "execution_count": null,
   "metadata": {
    "scrolled": true,
    "slideshow": {
     "slide_type": "slide"
    }
   },
   "outputs": [],
   "source": [
    "pal <- colorNumeric(c(\"green\", \"red\"), 1:5)\n",
    "ImgClusters <- leaflet() %>% \n",
    "            addProviderTiles(providers$Esri) %>% \n",
    "            addRasterImage(kmeans_raster, colors = pal, opacity=\"0.5\")\n"
   ]
  },
  {
   "cell_type": "code",
   "execution_count": null,
   "metadata": {
    "scrolled": false,
    "slideshow": {
     "slide_type": "subslide"
    }
   },
   "outputs": [],
   "source": [
    "ImgClusters"
   ]
  },
  {
   "cell_type": "markdown",
   "metadata": {
    "slideshow": {
     "slide_type": "slide"
    }
   },
   "source": [
    "### Guardando archivo\n",
    "\n",
    "Este paso escribe el resultado como fichero .img"
   ]
  },
  {
   "cell_type": "code",
   "execution_count": null,
   "metadata": {
    "scrolled": true,
    "slideshow": {
     "slide_type": "subslide"
    }
   },
   "outputs": [],
   "source": [
    "writeRaster(kmeans_raster, path_raster_img, format=\"HFA\")\n"
   ]
  },
  {
   "cell_type": "markdown",
   "metadata": {
    "slideshow": {
     "slide_type": "slide"
    }
   },
   "source": [
    "Este paso guarda el raster en una database ESRI"
   ]
  },
  {
   "cell_type": "code",
   "execution_count": null,
   "metadata": {
    "scrolled": true,
    "slideshow": {
     "slide_type": "subslide"
    }
   },
   "outputs": [],
   "source": [
    "path_raster_kmeans <- paste(working_directory,\"\\\\cartagena.gdb\\\\cartagena_kmeans\",sep=\"\")\n",
    "arc.write(path_raster_kmeans, kmeans_raster)"
   ]
  },
  {
   "cell_type": "markdown",
   "metadata": {
    "slideshow": {
     "slide_type": "slide"
    }
   },
   "source": [
    "Algo Mas"
   ]
  },
  {
   "cell_type": "code",
   "execution_count": null,
   "metadata": {
    "slideshow": {
     "slide_type": "slide"
    }
   },
   "outputs": [],
   "source": [
    "cp <- kmeans_raster\n",
    "raw <- (kmeans_raster@data@values == 1) \n",
    "vects <- as.numeric(raw)\n",
    "cp@data@values<-vects\n",
    "pal <- colorNumeric(c(\"green\", \"white\"), 1:2)\n",
    "ImgMonte <- leaflet() %>% \n",
    "            addProviderTiles(providers$Esri) %>% \n",
    "            addRasterImage(cp ,  colors = pal, opacity=0.5)"
   ]
  },
  {
   "cell_type": "code",
   "execution_count": null,
   "metadata": {
    "slideshow": {
     "slide_type": "slide"
    }
   },
   "outputs": [],
   "source": [
    "ImgMonte"
   ]
  },
  {
   "cell_type": "markdown",
   "metadata": {},
   "source": [
    "Calculando area aproximada de ¿Mangles??"
   ]
  },
  {
   "cell_type": "code",
   "execution_count": null,
   "metadata": {
    "slideshow": {
     "slide_type": "slide"
    }
   },
   "outputs": [],
   "source": [
    "vects[is.na(vects)] <- 0\n",
    "ncells<- sum(vects)\n",
    "area_monte <- (ncells*30*30)/1000000\n",
    "area_monte"
   ]
  },
  {
   "cell_type": "code",
   "execution_count": null,
   "metadata": {},
   "outputs": [],
   "source": []
  }
 ],
 "metadata": {
  "celltoolbar": "Slideshow",
  "kernelspec": {
   "display_name": "R",
   "language": "R",
   "name": "ir"
  },
  "language_info": {
   "codemirror_mode": "r",
   "file_extension": ".r",
   "mimetype": "text/x-r-source",
   "name": "R",
   "pygments_lexer": "r",
   "version": "3.5.1"
  }
 },
 "nbformat": 4,
 "nbformat_minor": 2
}
